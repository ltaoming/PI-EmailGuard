{
 "cells": [
  {
   "cell_type": "markdown",
   "id": "17fc6d0b",
   "metadata": {},
   "source": [
    "## Import"
   ]
  },
  {
   "cell_type": "code",
   "execution_count": null,
   "id": "059639d4",
   "metadata": {},
   "outputs": [],
   "source": [
    "!pip install sentence-transformers datasets"
   ]
  },
  {
   "cell_type": "code",
   "execution_count": null,
   "id": "10870122",
   "metadata": {},
   "outputs": [],
   "source": [
    "from sentence_transformers import SentenceTransformer\n",
    "from pathlib import Path\n",
    "from datasets import load_from_disk\n",
    "import pandas as pd\n",
    "import numpy as np\n",
    "import json\n",
    "import time\n",
    "from tqdm import tqdm"
   ]
  },
  {
   "cell_type": "markdown",
   "id": "b02f0973",
   "metadata": {},
   "source": [
    "## Dataset prepare"
   ]
  },
  {
   "cell_type": "code",
   "execution_count": null,
   "id": "9db7c0ba",
   "metadata": {},
   "outputs": [],
   "source": [
    "# df = pd.read_json(\"../data/merged_email_dataset.json\")\n",
    "df = pd.read_json(\"hf://datasets/0tt00t/PI-EmailGuard/merged_email_dataset.json\")"
   ]
  },
  {
   "cell_type": "code",
   "execution_count": null,
   "id": "1d027c6a",
   "metadata": {},
   "outputs": [],
   "source": [
    "output_column = df[\"output\"].tolist()\n",
    "sentences = output_column"
   ]
  },
  {
   "cell_type": "markdown",
   "id": "d351efb0",
   "metadata": {},
   "source": [
    "## Embedding"
   ]
  },
  {
   "cell_type": "code",
   "execution_count": null,
   "id": "6219f342",
   "metadata": {},
   "outputs": [],
   "source": [
    "model = SentenceTransformer('sentence-transformers/all-MiniLM-L6-v2')"
   ]
  },
  {
   "cell_type": "code",
   "execution_count": null,
   "id": "73360416",
   "metadata": {},
   "outputs": [],
   "source": [
    "batch_size = 1000\n",
    "n = len(sentences)\n",
    "emb_list = []\n",
    "encode_time = 0.0"
   ]
  },
  {
   "cell_type": "code",
   "execution_count": null,
   "id": "842609cc",
   "metadata": {},
   "outputs": [],
   "source": [
    "with tqdm(total=n, desc=\"Encoding\", unit=\"items\") as pbar:\n",
    "    for i in range(0, n, batch_size):\n",
    "        batch = sentences[i : i + batch_size]\n",
    "        t0 = time.time()\n",
    "        batch_emb = model.encode(batch, convert_to_numpy=True, show_progress_bar=False)\n",
    "        t1 = time.time()\n",
    "        encode_time += (t1 - t0)\n",
    "        emb_list.append(batch_emb)\n",
    "        pbar.update(len(batch))\n",
    "\n",
    "if len(emb_list) > 0:\n",
    "    embeddings = np.vstack(emb_list)\n",
    "else:\n",
    "    embeddings = np.empty((0, model.get_sentence_embedding_dimension()))\n",
    "\n",
    "print(f\"Time taken to generate embeddings (encode only): {encode_time:.2f} seconds\")"
   ]
  }
 ],
 "metadata": {
  "kernelspec": {
   "display_name": ".venv",
   "language": "python",
   "name": "python3"
  },
  "language_info": {
   "name": "python",
   "version": "3.12.3"
  }
 },
 "nbformat": 4,
 "nbformat_minor": 5
}
